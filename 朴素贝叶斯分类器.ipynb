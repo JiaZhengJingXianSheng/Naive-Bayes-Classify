{
 "cells": [
  {
   "cell_type": "markdown",
   "metadata": {},
   "source": [
    "# 朴素贝叶斯分类器"
   ]
  },
  {
   "cell_type": "code",
   "execution_count": 78,
   "metadata": {},
   "outputs": [],
   "source": [
    "from sklearn.naive_bayes import GaussianNB\n",
    "import matplotlib.pyplot as plt\n",
    "import numpy as np\n",
    "import torchvision\n",
    "import torch\n",
    "from torchvision import transforms"
   ]
  },
  {
   "cell_type": "code",
   "execution_count": 79,
   "metadata": {},
   "outputs": [],
   "source": [
    "batch_size = 32"
   ]
  },
  {
   "cell_type": "code",
   "execution_count": 80,
   "metadata": {},
   "outputs": [],
   "source": [
    "train_data = torchvision.datasets.MNIST(\"data\", train=True, download=True, transform=transforms.ToTensor())\n",
    "train_loader = torch.utils.data.DataLoader(train_data, batch_size=batch_size, shuffle=True)\n",
    "val_data = torchvision.datasets.MNIST(\"data\", train=False, download=True, transform=transforms.ToTensor())\n",
    "val_loader = torch.utils.data.DataLoader(val_data, batch_size=batch_size, shuffle=False)"
   ]
  },
  {
   "cell_type": "code",
   "execution_count": 81,
   "metadata": {},
   "outputs": [],
   "source": [
    "def pretreatment(data, batch_size):\n",
    "    image = []\n",
    "    label = []\n",
    "    for i in range(len(data)):\n",
    "        x, y = next(iter(data))\n",
    "        for ii in range(batch_size):\n",
    "            image.append(x[ii].reshape(1, -1)[0].tolist())\n",
    "            label.append(y[ii].item())\n",
    "\n",
    "    image = np.array(image)\n",
    "    label = np.array(label)\n",
    "    return image, label"
   ]
  },
  {
   "cell_type": "code",
   "execution_count": 82,
   "metadata": {},
   "outputs": [],
   "source": [
    "train_image, train_label = pretreatment(train_loader, batch_size)\n",
    "val_image, val_label = pretreatment(val_loader, batch_size)"
   ]
  },
  {
   "cell_type": "code",
   "execution_count": 83,
   "metadata": {},
   "outputs": [],
   "source": [
    "classify = GaussianNB().fit(train_image, train_label)"
   ]
  },
  {
   "cell_type": "code",
   "execution_count": 84,
   "metadata": {},
   "outputs": [],
   "source": [
    "predict_label = classify.predict(val_image)"
   ]
  },
  {
   "cell_type": "code",
   "execution_count": 99,
   "metadata": {},
   "outputs": [
    {
     "name": "stdout",
     "output_type": "stream",
     "text": [
      "预测结果为： 9 2 1 0 9 1 8 9 4 9 \n",
      "初始标签为： 7 2 1 0 4 1 4 9 5 9 \n"
     ]
    },
    {
     "data": {
      "image/png": "[encoded data removed]",
      "text/plain": [
       "<Figure size 432x288 with 10 Axes>"
      ]
     },
     "metadata": {
      "needs_background": "light"
     },
     "output_type": "display_data"
    }
   ],
   "source": [
    "plt.figure(1)\n",
    "print(\"预测结果为：\",end=\" \")\n",
    "for i in range(10):\n",
    "    plt.subplot(1, 10, i + 1)\n",
    "    plt.imshow(val_image[i].flatten().reshape(28, 28))\n",
    "    print(predict_label[i], end=\" \")\n",
    "\n",
    "print(\"\\n初始标签为：\",end=\" \")\n",
    "for i in range(10):\n",
    "    print(val_label[i],end=\" \")\n",
    "print()"
   ]
  },
  {
   "cell_type": "code",
   "execution_count": 97,
   "metadata": {},
   "outputs": [
    {
     "name": "stdout",
     "output_type": "stream",
     "text": [
      "预测精度为：\n",
      "0.6549520766773163\n"
     ]
    }
   ],
   "source": [
    "sum=0\n",
    "for i in range(len(val_loader)):\n",
    "    if val_label[i] == predict_label[i]:\n",
    "        sum += 1\n",
    "print(\"预测精度为：\")\n",
    "print(sum/len(val_loader))"
   ]
  }
 ],
 "metadata": {
  "kernelspec": {
   "display_name": "Python 3 (ipykernel)",
   "language": "python",
   "name": "python3"
  },
  "language_info": {
   "codemirror_mode": {
    "name": "ipython",
    "version": 3
   },
   "file_extension": ".py",
   "mimetype": "text/x-python",
   "name": "python",
   "nbconvert_exporter": "python",
   "pygments_lexer": "ipython3",
   "version": "3.8.12"
  },
  "orig_nbformat": 4
 },
 "nbformat": 4,
 "nbformat_minor": 2
}
